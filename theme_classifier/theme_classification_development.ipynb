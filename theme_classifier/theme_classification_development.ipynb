{
 "cells": [
  {
   "cell_type": "code",
   "execution_count": 78,
   "id": "df18f425",
   "metadata": {},
   "outputs": [],
   "source": [
    "from transformers import pipeline\n",
    "from nltk import sent_tokenize\n",
    "import nltk\n",
    "import torch\n",
    "from glob import glob\n",
    "import pandas as pd\n",
    "import numpy as np"
   ]
  },
  {
   "cell_type": "code",
   "execution_count": 79,
   "id": "18a2260f",
   "metadata": {},
   "outputs": [
    {
     "name": "stderr",
     "output_type": "stream",
     "text": [
      "[nltk_data] Downloading package punkt to /home/ashish/nltk_data...\n",
      "[nltk_data]   Package punkt is already up-to-date!\n"
     ]
    },
    {
     "data": {
      "text/plain": [
       "True"
      ]
     },
     "execution_count": 79,
     "metadata": {},
     "output_type": "execute_result"
    }
   ],
   "source": [
    "nltk.download('punkt')"
   ]
  },
  {
   "cell_type": "code",
   "execution_count": null,
   "id": "6e1e8c86",
   "metadata": {},
   "outputs": [],
   "source": []
  },
  {
   "cell_type": "markdown",
   "id": "df0c4047",
   "metadata": {},
   "source": [
    "# Load Model"
   ]
  },
  {
   "cell_type": "code",
   "execution_count": 80,
   "id": "7cf44848",
   "metadata": {},
   "outputs": [],
   "source": [
    "model_name = \"facebook/bart-large-mnli\"\n",
    "device = 0 if torch.cuda.is_available() else 'cpu'"
   ]
  },
  {
   "cell_type": "code",
   "execution_count": 81,
   "id": "a2433eab",
   "metadata": {},
   "outputs": [],
   "source": [
    "def load_model(device):\n",
    "    theme_classifier = pipeline(\n",
    "        \"zero-shot-classification\",\n",
    "        model=model_name,\n",
    "        device=device\n",
    "    )\n",
    "    return theme_classifier"
   ]
  },
  {
   "cell_type": "code",
   "execution_count": 82,
   "id": "f1c01a66",
   "metadata": {},
   "outputs": [
    {
     "name": "stderr",
     "output_type": "stream",
     "text": [
      "/home/ashish/development/series-analysis-system/.venv/lib/python3.10/site-packages/transformers/tokenization_utils_base.py:1601: FutureWarning: `clean_up_tokenization_spaces` was not set. It will be set to `True` by default. This behavior will be depracted in transformers v4.45, and will be then set to `False` by default. For more details check this issue: https://github.com/huggingface/transformers/issues/31884\n",
      "  warnings.warn(\n"
     ]
    }
   ],
   "source": [
    "theme_classifier = load_model(device)"
   ]
  },
  {
   "cell_type": "code",
   "execution_count": 83,
   "id": "192a592f",
   "metadata": {},
   "outputs": [],
   "source": [
    "theme_list = [\"friendship\", \"hope\", \"scarifice\", \"battle\", \"self development\", \"betrayal\", \"love\", \"dialogue\"]"
   ]
  },
  {
   "cell_type": "code",
   "execution_count": 84,
   "id": "4bb5aa70",
   "metadata": {},
   "outputs": [
    {
     "data": {
      "text/plain": [
       "{'sequence': 'I gave him a right hook then a left jab',\n",
       " 'labels': ['battle',\n",
       "  'scarifice',\n",
       "  'self development',\n",
       "  'hope',\n",
       "  'dialogue',\n",
       "  'betrayal',\n",
       "  'love',\n",
       "  'friendship'],\n",
       " 'scores': [0.912125289440155,\n",
       "  0.49253398180007935,\n",
       "  0.47500237822532654,\n",
       "  0.0878179669380188,\n",
       "  0.020132793113589287,\n",
       "  0.012040523812174797,\n",
       "  0.004292386583983898,\n",
       "  0.0028172149322927]}"
      ]
     },
     "execution_count": 84,
     "metadata": {},
     "output_type": "execute_result"
    }
   ],
   "source": [
    "theme_classifier(\n",
    "    \"I gave him a right hook then a left jab\",\n",
    "    theme_list,\n",
    "    multi_label=True\n",
    ")"
   ]
  },
  {
   "cell_type": "markdown",
   "id": "d2113ba3",
   "metadata": {},
   "source": [
    "# Load Dataset"
   ]
  },
  {
   "cell_type": "code",
   "execution_count": 85,
   "id": "b0c0b26b",
   "metadata": {},
   "outputs": [],
   "source": [
    "files = glob('../data/Subtitles/*.ass')"
   ]
  },
  {
   "cell_type": "code",
   "execution_count": 86,
   "id": "d1252095",
   "metadata": {},
   "outputs": [
    {
     "data": {
      "text/plain": [
       "['../data/Subtitles/Naruto Season 7 - 163.ass',\n",
       " '../data/Subtitles/Naruto Season 2 - 48.ass',\n",
       " '../data/Subtitles/Naruto Season 3 - 60.ass',\n",
       " '../data/Subtitles/Naruto Season 5 - 107.ass',\n",
       " '../data/Subtitles/Naruto Season 3 - 66.ass']"
      ]
     },
     "execution_count": 86,
     "metadata": {},
     "output_type": "execute_result"
    }
   ],
   "source": [
    "files[:5]"
   ]
  },
  {
   "cell_type": "code",
   "execution_count": 87,
   "id": "c951557f",
   "metadata": {},
   "outputs": [],
   "source": [
    "with open(files[0], 'r') as file:\n",
    "    lines = file.readlines()\n",
    "    lines = lines[27:]\n",
    "    lines = [\",\".join(line.split(',')[9:]) for line in lines]"
   ]
  },
  {
   "cell_type": "code",
   "execution_count": 88,
   "id": "b3c139c4",
   "metadata": {},
   "outputs": [
    {
     "data": {
      "text/plain": [
       "['I want to try and gather\\\\Nthe unrestrained winds\\n',\n",
       " 'I’ll run toward the horizon,\\\\Nalongside the wave crests\\n']"
      ]
     },
     "execution_count": 88,
     "metadata": {},
     "output_type": "execute_result"
    }
   ],
   "source": [
    "lines[:2]"
   ]
  },
  {
   "cell_type": "code",
   "execution_count": 89,
   "id": "3e645cb3",
   "metadata": {},
   "outputs": [],
   "source": [
    "lines = [line.replace('\\\\N', '') for line in lines]"
   ]
  },
  {
   "cell_type": "code",
   "execution_count": 90,
   "id": "63619345",
   "metadata": {},
   "outputs": [
    {
     "data": {
      "text/plain": [
       "['I want to try and gatherthe unrestrained winds\\n',\n",
       " 'I’ll run toward the horizon,alongside the wave crests\\n']"
      ]
     },
     "execution_count": 90,
     "metadata": {},
     "output_type": "execute_result"
    }
   ],
   "source": [
    "lines[:2]"
   ]
  },
  {
   "cell_type": "code",
   "execution_count": 91,
   "id": "19ab0fd0",
   "metadata": {},
   "outputs": [
    {
     "data": {
      "text/plain": [
       "'I want to try and gatherthe unrestrained winds\\n I’ll run toward the horizon,alongside the wave crests\\n I’ve made my decision,\\n even if there’s a long way to goon that road.\\n I’ll continue towards the future I’ve planned\\n Time rushes usThe heartbeat speeds up\\n When I woke in the middle of a dreamI kept searching for that same light\\n Under the shining star-lit sky withcountless constellations and shadows\\n There was something beyond that…What were you gazing at?\\n What were you gazing at?\\n'"
      ]
     },
     "execution_count": 91,
     "metadata": {},
     "output_type": "execute_result"
    }
   ],
   "source": [
    "\" \".join(lines[:10])"
   ]
  },
  {
   "cell_type": "code",
   "execution_count": 92,
   "id": "ad1a366e",
   "metadata": {},
   "outputs": [
    {
     "data": {
      "text/plain": [
       "163"
      ]
     },
     "execution_count": 92,
     "metadata": {},
     "output_type": "execute_result"
    }
   ],
   "source": [
    "int(files[0].split('-')[-1].split('.')[0].strip())"
   ]
  },
  {
   "cell_type": "code",
   "execution_count": 93,
   "id": "e5679845",
   "metadata": {},
   "outputs": [],
   "source": [
    "def load_subtitles_dataset(dataset_path):\n",
    "    sibtitles_path = glob(f'{dataset_path}/*.ass')\n",
    "\n",
    "    scripts = []\n",
    "    episode_num = []\n",
    "\n",
    "    for path in sibtitles_path:\n",
    "\n",
    "        # Read lines\n",
    "        with open(path, 'r') as file:\n",
    "            lines = file.readlines()\n",
    "            lines = lines[27:]\n",
    "            lines = [\",\".join(line.split(',')[9:]) for line in lines]\n",
    "\n",
    "        lines = [line.replace('\\\\N', '') for line in lines]\n",
    "        script = \" \".join(lines)\n",
    "\n",
    "        episode = int(path.split('-')[-1].split('.')[0].strip())\n",
    "\n",
    "        scripts.append(script)\n",
    "        episode_num.append(episode)\n",
    "    \n",
    "    df = pd.DataFrame.from_dict({\"episode\": episode_num, \"script\": scripts})\n",
    "    return df\n",
    "                          "
   ]
  },
  {
   "cell_type": "code",
   "execution_count": 94,
   "id": "7d1c4be5",
   "metadata": {},
   "outputs": [],
   "source": [
    "dataset_path = \"../data/Subtitles\"\n",
    "df = load_subtitles_dataset(dataset_path)"
   ]
  },
  {
   "cell_type": "code",
   "execution_count": 95,
   "id": "0a0234d7",
   "metadata": {},
   "outputs": [
    {
     "data": {
      "text/html": [
       "<div>\n",
       "<style scoped>\n",
       "    .dataframe tbody tr th:only-of-type {\n",
       "        vertical-align: middle;\n",
       "    }\n",
       "\n",
       "    .dataframe tbody tr th {\n",
       "        vertical-align: top;\n",
       "    }\n",
       "\n",
       "    .dataframe thead th {\n",
       "        text-align: right;\n",
       "    }\n",
       "</style>\n",
       "<table border=\"1\" class=\"dataframe\">\n",
       "  <thead>\n",
       "    <tr style=\"text-align: right;\">\n",
       "      <th></th>\n",
       "      <th>episode</th>\n",
       "      <th>script</th>\n",
       "    </tr>\n",
       "  </thead>\n",
       "  <tbody>\n",
       "    <tr>\n",
       "      <th>0</th>\n",
       "      <td>163</td>\n",
       "      <td>I want to try and gatherthe unrestrained winds...</td>\n",
       "    </tr>\n",
       "    <tr>\n",
       "      <th>1</th>\n",
       "      <td>48</td>\n",
       "      <td>Press down hard on the gas\\n That’s right, the...</td>\n",
       "    </tr>\n",
       "    <tr>\n",
       "      <th>2</th>\n",
       "      <td>60</td>\n",
       "      <td>Yeah, turn your sadness into kindness,your uni...</td>\n",
       "    </tr>\n",
       "    <tr>\n",
       "      <th>3</th>\n",
       "      <td>107</td>\n",
       "      <td>Connecting old wordsthat have been used up\\n I...</td>\n",
       "    </tr>\n",
       "    <tr>\n",
       "      <th>4</th>\n",
       "      <td>66</td>\n",
       "      <td>Yeah, turn your sadness into kindness,your uni...</td>\n",
       "    </tr>\n",
       "  </tbody>\n",
       "</table>\n",
       "</div>"
      ],
      "text/plain": [
       "   episode                                             script\n",
       "0      163  I want to try and gatherthe unrestrained winds...\n",
       "1       48  Press down hard on the gas\\n That’s right, the...\n",
       "2       60  Yeah, turn your sadness into kindness,your uni...\n",
       "3      107  Connecting old wordsthat have been used up\\n I...\n",
       "4       66  Yeah, turn your sadness into kindness,your uni..."
      ]
     },
     "execution_count": 95,
     "metadata": {},
     "output_type": "execute_result"
    }
   ],
   "source": [
    "df.head()"
   ]
  },
  {
   "cell_type": "markdown",
   "id": "e14f7a7d",
   "metadata": {},
   "source": [
    "Run Model"
   ]
  },
  {
   "cell_type": "code",
   "execution_count": 96,
   "id": "df5a6764",
   "metadata": {},
   "outputs": [],
   "source": [
    "script = df.iloc[0]['script']"
   ]
  },
  {
   "cell_type": "code",
   "execution_count": 97,
   "id": "867ae354",
   "metadata": {},
   "outputs": [
    {
     "data": {
      "text/plain": [
       "\"I want to try and gatherthe unrestrained winds\\n I’ll run toward the horizon,alongside the wave crests\\n I’ve made my decision,\\n even if there’s a long way to goon that road.\\n I’ll continue towards the future I’ve planned\\n Time rushes usThe heartbeat speeds up\\n When I woke in the middle of a dreamI kept searching for that same light\\n Under the shining star-lit sky withcountless constellations and shadows\\n There was something beyond that…What were you gazing at?\\n What were you gazing at?\\n Is this really Moso’s house?\\n Here he’s a superintendant officer,\\n so I thought it’d be a more luxuriousbuilding with gold folding screens.\\n Your voices are too loud.\\n Lord Moso is a magnificent personwith no self-interests.\\n So he lives frugally.\\n But you know, he’s an old man\\n who’s the second most important guyin the land next to the feudal lord, right?\\n He smacks of being really poor.\\n Naruto!\\n Well well, how shameful of meto present such a poor residence.\\n Lord Moso.\\n What?!\\n This old man like fromsome dumpling shop?\\n I’m an old man froma dumpling shop?\\n Geez, unbelievable!\\n Idiot!\\n What’re you doing, Neji?!\\n Well, make yourselves comfortable.\\n So you are Ninja who came fromthe Village Hidden in Leaves?\\n From the right,this is Naruto, Neji and Tenten.\\n I hear you encounteredthe Cursed Warrior that appeared\\n in Lord Komei’s residence last night.\\n Yes.\\n So, how did it go?\\n Did you figure out the true identityof the Cursed Warrior?\\n Yeah, it’s a real ghost.\\n Oh, a ghost, huh?\\n Don’t be jumping to conclusionson your own.\\n But he appears all of a suddenand flies around.\\n Yeah, and on top of that,the inside of his armor was empty.\\n No matter how bizarre the thing,there’s always a trick.\\n I’ll pin down the true identity without fail.\\n That is encouraging…\\n We have just changed feudal lordsand the public is still anxious.\\n Please eliminate the rumors ofthe Cursed Warrior as soon as possible.\\n I beg of you.\\n Please!\\n Tsurucho Yakitori\\n Here are your chicken wings.\\n Oh, here we go!\\n They look tasty!\\n Hot!\\n That Moso superintendant officerseems like a good guy.\\n Yes. It was also Lord Mosowho came to my rescue\\n and selected me to be a page.\\n The son of the feudal lord succeeds him\\n and an excellent superintendant officeroffers him tutelage…\\n The government appearsto be stable, but…\\n Then why is there a strange rumorgoing around\\n about the hauntingof the previous feudal lord?\\n There’s probably somebody displeased\\n with this dramatic replacementof the feudal lord.\\n Do you have any idea who it might be?\\n Well, it might be Lord Komei, after all.\\n Isn't that the name ofthe tactician you were talking about\\n who wanted to become the feudal lord?\\n Then why did the Cursed Warriorappear in his residence?\\n Perhaps to deflect attention.\\n That’s it. \\t\\t\\t\\t\\tI bet that’s it.\\n All right, since it’s come to this,\\n if we can nab that old mancalled Komei or whatever\\n and quickly get him to own up…\\n Guys, let’s get fired up andget going!\\n Idiot. We can’t do somethinglike that without proof.\\n He is a tactician of this landmore or less, so.\\n Oh man, that’s no fun.\\n First, I want to meet Lord Sagi,the feudal lord.\\n That’s not possible. Lord Sagidoes not like to meet anybody.\\n Don’t be such a stick-in-the-mud.Let us meet him, okay?\\n You’re a “nipple” friend, right?\\n If you’re going to say that,say, “childhood friend.”\\n Huh?\\n Can we really meet himin a place like this?\\n This lake holds fond memoriesfor Lord Sagi.\\n And…for me as well.\\n In our young days,\\n Lord Sagi always played withhis little sister Lady Toki here.\\n He might come here around about todaywith his attendants…\\n If we’re lucky.\\n It’s up to luck, huh?\\n It’s Lord Sagi.\\n Lord Sagi, we have arrived.\\n Thank you.\\n Oh wow…So that’s Lord Sagi, huh?\\n He’s cute. He is kind of my liking…\\n My watch has remained stoppedsince that time.\\n Hey, what’s he doing?\\n He’s probably reminiscing.\\n The only thing that can comfortLord Sagi’s heart\\n is his memories with Lady Toki.\\n Byakugan.\\n Where is it?\\n Where’s this bloodthirsty auracoming from?\\n It’s not above ground?\\n Could it be, underwater…?\\n Assassins! Protect Lord Sagi!\\n I don’t think so!\\n Who the heck are you guys?\\n Damn it!I won’t let you get away.\\n Wait, Naruto!\\n What is it?\\n A letter bomb in the water.\\n That was a close one.\\n If you’d chased after them as is,you would’ve been totally entangled.\\n Settle down.\\n Lord Sagi!\\n Are you all right?!\\n Yes, I’m fine.\\n Thank goodness!\\n Lord Sagi, these three are Ninjafrom the Village Hidden in Leaves…\\n They came to investigatethe true identity of the Cursed Warrior.\\n That was unnecessary.I bet it was that  Moso’s idea?\\n It was all becausehe was worried for your life, Lord Sagi.\\n The fact is, if these peoplewere not here now…\\n Silence.\\n Y-Yes, my lord.\\n Hey-hey, do you really not gethow this guy feels?!\\n Chishima was seriouslyworried about you.\\n Without his passionate friendship,\\n the Hidden Leaf Village wouldn’t havetaken action with that low commission fee.\\n I am not obliged.\\n How bothersome!\\n Say what?!\\n Friendship is in the past.\\n I became a feudal lord andhe is a mere page.\\n We are now standing ondifferent surfaces.\\n Say that again! I’ll slug the guywho tramples on friendship--!\\n Let it go, Naruto.\\n What’re you doing?! Let go of me!\\n I have to give guys like thisa good thumping!\\n You are talking about a feudal lord!\\n It would have been betterhad it pierced my throat.\\n Go.\\n Yes, my lord.\\n Jeez, who does he think he is?!\\n Jeez, a feudal lord.\\n Please forgive him.\\n What? You don’t have a problemwith being told off like that?!\\n He wasn’t like that in the old days.\\n His father and little sisterdied in succession\\n and he became cold-hearted.\\n So that’s what it was.\\n I’m sure the day will come\\n when he will turn back intothe kind-hearted Lord Sagi.\\n I don’t know about that.\\n The Shuriken from before.\\n This is an odd shape.\\n Hm? Let me have a look.\\n Oh!\\n Does it look familiar to youor something?\\n Y-Yes. There are no Ninjain the Land of Birds.\\n But there are guardsmenreceiving special training.\\n Is it a weapon those people use?\\n Yes.\\n Who commands those guardsmen?\\n The person who organizes themis Lord Komei the tactician.\\n Say what?!\\n Komei again.\\n Komei must have originally thought tomislead the public with the Cursed Warrior\\n and attempted to createa rift between Lord Sagi and Moso.\\n But the relationship betweenthe two is tight.\\n And by Moso summoning us here,he probably sensed that the day\\n was approaching when the truthbehind the incident would be revealed\\n and he plottedto assassinate Lord Sagi.\\n If we’ve figured out that much,let’s charge on in--!\\n Hold your horses, Naruto.\\n We have to find more hard evidence.\\n Hey, is that how it is?\\n Yeah, that’s how it is.\\n Neji, look at that.\\n No doubt, it’s Komei!\\n To think he’d go out without attendants\\n even though the Cursed Warriormight appear.\\n All right, let’s follow him.\\n This is the temple wherethe Cursed Warrior appeared last night.\\n Something smells fishy.\\n He’s shown up…!\\n Byakugan.\\n What’s this?!\\n There’s no need to waver anymore!\\n Hey! Wait.\\n I’ve witnessed the true identityof the ghost!\\n Who’s there?\\n Hey hey, Komei!\\n You’re the one responsiblefor controlling the Cursed Warrior, right?\\n What?\\n H-Hold it!\\n Naruto, get down!\\n I did it!\\n Damn it! No good.\\n This thing’s not just a ghost, after all.\\n A tornado?\\n I can’t see the Cursed Warrior!\\n Byakugan.\\n A Shuriken Shadow Clone?!\\n 8 Trigrams Palm Rotation!\\n What’re you letting your mind drift for?!\\n Sorry… I never thought a ghost coulduse Ninjutsu.\\n It’s not a ghost inside the armor.lt’s a Shinobi.\\n And quite a wily one at that.\\n This is the same shapeas the shuriken from this afternoon.\\n He’s an important witness.Take him alive.\\n Leave it to me!\\n But we can’t take him alive\\n if we don’t do something aboutthat tornado.\\n Naruto.\\n I’m counting on you!\\n Right. I’ll try!\\n Tenten, use as many weaponsas possible and draw his attention.\\n Roger.\\n No good. No effect at all.\\n That’s fine. Just keep at it.\\n Neji…now!\\n Gentle Fist Technique,8 Trigrams 64 Palms.\\n 8 Trigrams 2 Palms.\\n 4 Palms.\\n 8 Palms.\\n 16 Palms.\\n 32 Palms.\\n 64 Palms.\\n All right, we did it!\\n We’ll find out the true identityfor sure this time.\\n Show us your real face.\\n What’s this?\\n It’s empty again.\\n This can’t be!\\n Lord Komei, we have seized froma storeroom in your residence,\\n one suit of white armor alongwith guardsmen Shuriken.\\n We would like you to reportto the magistrate’s office\\n as a material witness inthe recent Cursed Warrior incident\\n as well as the attempted assassinationof Lord Sagi.\\n I have no choice.\\n Thank you very much.\\n With this, Lord Sagi’s heart shouldsettle down somewhat.\\n Case closed.\\n Still, they were sure prepared.\\n Here an hour has barely passedsince contacting Moso.\\n At that time…\\n – Huh? \\t\\t\\t\\t\\t– Huh?\\n There was a human presencein tonight’s Cursed Warrior.\\n The presence of someone alive.\\n A presence?\\n But you said you didn’t feel sucha presence in the first Cursed Warrior.\\n Yeah.\\n Hey, what does that mean?\\n In other words, the two Cursed Warriorare separate beings.\\n So many things happenon this endless road, huh?\\n Although you’re strong-willed,your voice wavered on the phone today\\n What dreams did you chase to get here?\\n Even I have times whenI just don’t understand, baby\\n When you’re sad, I’ll be close to you\\n Even on nights when we’re apart,I’ll be close to you\\n I’ll be close to you\\n How can we go back to the villagewhen there's all this mystery?\\n If we're gonna investigate,this has to be it.\\n What? Could this black thing be…?\\n I get it! We use thisto get through the dark…\\n Hey, why did we end upin a place like this?!\\n Next: “Too Late for Help”\\n\""
      ]
     },
     "execution_count": 97,
     "metadata": {},
     "output_type": "execute_result"
    }
   ],
   "source": [
    "script"
   ]
  },
  {
   "cell_type": "code",
   "execution_count": 98,
   "id": "fe835cee",
   "metadata": {},
   "outputs": [
    {
     "data": {
      "text/plain": [
       "['I want to try and gatherthe unrestrained winds\\n I’ll run toward the horizon,alongside the wave crests\\n I’ve made my decision,\\n even if there’s a long way to goon that road.',\n",
       " 'I’ll continue towards the future I’ve planned\\n Time rushes usThe heartbeat speeds up\\n When I woke in the middle of a dreamI kept searching for that same light\\n Under the shining star-lit sky withcountless constellations and shadows\\n There was something beyond that…What were you gazing at?',\n",
       " 'What were you gazing at?']"
      ]
     },
     "execution_count": 98,
     "metadata": {},
     "output_type": "execute_result"
    }
   ],
   "source": [
    "script_sentences = sent_tokenize(script)\n",
    "script_sentences[:3]"
   ]
  },
  {
   "cell_type": "code",
   "execution_count": 99,
   "id": "645ea49f",
   "metadata": {},
   "outputs": [],
   "source": [
    "# Batch sentences\n",
    "sentence_batch_size = 20\n",
    "script_batches = []\n",
    "for index in range(0, len(script_sentences), sentence_batch_size):\n",
    "    sent = \" \".join(script_sentences[index:index+sentence_batch_size])\n",
    "    script_batches.append(sent)\n",
    "\n",
    "    break"
   ]
  },
  {
   "cell_type": "code",
   "execution_count": 100,
   "id": "190be5fe",
   "metadata": {},
   "outputs": [
    {
     "data": {
      "text/plain": [
       "['I want to try and gatherthe unrestrained winds\\n I’ll run toward the horizon,alongside the wave crests\\n I’ve made my decision,\\n even if there’s a long way to goon that road. I’ll continue towards the future I’ve planned\\n Time rushes usThe heartbeat speeds up\\n When I woke in the middle of a dreamI kept searching for that same light\\n Under the shining star-lit sky withcountless constellations and shadows\\n There was something beyond that…What were you gazing at? What were you gazing at? Is this really Moso’s house? Here he’s a superintendant officer,\\n so I thought it’d be a more luxuriousbuilding with gold folding screens. Your voices are too loud. Lord Moso is a magnificent personwith no self-interests. So he lives frugally. But you know, he’s an old man\\n who’s the second most important guyin the land next to the feudal lord, right? He smacks of being really poor. Naruto! Well well, how shameful of meto present such a poor residence. Lord Moso. What?! This old man like fromsome dumpling shop? I’m an old man froma dumpling shop? Geez, unbelievable! Idiot! What’re you doing, Neji?! Well, make yourselves comfortable.']"
      ]
     },
     "execution_count": 100,
     "metadata": {},
     "output_type": "execute_result"
    }
   ],
   "source": [
    "script_batches[:2]"
   ]
  },
  {
   "cell_type": "code",
   "execution_count": 101,
   "id": "2fb81764",
   "metadata": {},
   "outputs": [],
   "source": [
    "theme_output = theme_classifier(\n",
    "    script_batches[:2],\n",
    "    theme_list,\n",
    "    multi_label=True\n",
    ")"
   ]
  },
  {
   "cell_type": "code",
   "execution_count": 102,
   "id": "b191d173",
   "metadata": {},
   "outputs": [
    {
     "data": {
      "text/plain": [
       "[{'sequence': 'I want to try and gatherthe unrestrained winds\\n I’ll run toward the horizon,alongside the wave crests\\n I’ve made my decision,\\n even if there’s a long way to goon that road. I’ll continue towards the future I’ve planned\\n Time rushes usThe heartbeat speeds up\\n When I woke in the middle of a dreamI kept searching for that same light\\n Under the shining star-lit sky withcountless constellations and shadows\\n There was something beyond that…What were you gazing at? What were you gazing at? Is this really Moso’s house? Here he’s a superintendant officer,\\n so I thought it’d be a more luxuriousbuilding with gold folding screens. Your voices are too loud. Lord Moso is a magnificent personwith no self-interests. So he lives frugally. But you know, he’s an old man\\n who’s the second most important guyin the land next to the feudal lord, right? He smacks of being really poor. Naruto! Well well, how shameful of meto present such a poor residence. Lord Moso. What?! This old man like fromsome dumpling shop? I’m an old man froma dumpling shop? Geez, unbelievable! Idiot! What’re you doing, Neji?! Well, make yourselves comfortable.',\n",
       "  'labels': ['dialogue',\n",
       "   'betrayal',\n",
       "   'self development',\n",
       "   'scarifice',\n",
       "   'battle',\n",
       "   'love',\n",
       "   'friendship',\n",
       "   'hope'],\n",
       "  'scores': [0.9760727286338806,\n",
       "   0.905784010887146,\n",
       "   0.7529134154319763,\n",
       "   0.7338353991508484,\n",
       "   0.31400066614151,\n",
       "   0.1942243129014969,\n",
       "   0.09916046261787415,\n",
       "   0.06654246896505356]}]"
      ]
     },
     "execution_count": 102,
     "metadata": {},
     "output_type": "execute_result"
    }
   ],
   "source": [
    "theme_output"
   ]
  },
  {
   "cell_type": "code",
   "execution_count": 103,
   "id": "1608382f",
   "metadata": {},
   "outputs": [],
   "source": [
    "# wrangle output\n",
    "# battle: [0.23424, 0.434343]\n",
    "themes = {}\n",
    "for output in theme_output:\n",
    "    for label, score in zip(output['labels'], output['scores']):\n",
    "        if label not in themes:\n",
    "            themes[label] = []\n",
    "        themes[label].append(score)"
   ]
  },
  {
   "cell_type": "code",
   "execution_count": 104,
   "id": "578baeed",
   "metadata": {},
   "outputs": [],
   "source": [
    "themes = {key: float(np.mean(np.array(value))) for key,value in themes.items()}"
   ]
  },
  {
   "cell_type": "code",
   "execution_count": 105,
   "id": "f91747cb",
   "metadata": {},
   "outputs": [
    {
     "data": {
      "text/plain": [
       "{'dialogue': 0.9760727286338806,\n",
       " 'betrayal': 0.905784010887146,\n",
       " 'self development': 0.7529134154319763,\n",
       " 'scarifice': 0.7338353991508484,\n",
       " 'battle': 0.31400066614151,\n",
       " 'love': 0.1942243129014969,\n",
       " 'friendship': 0.09916046261787415,\n",
       " 'hope': 0.06654246896505356}"
      ]
     },
     "execution_count": 105,
     "metadata": {},
     "output_type": "execute_result"
    }
   ],
   "source": [
    "themes"
   ]
  },
  {
   "cell_type": "code",
   "execution_count": 106,
   "id": "5a29f353",
   "metadata": {},
   "outputs": [],
   "source": [
    "def get_themes_inference(script):\n",
    "    script_sentences = sent_tokenize(script)\n",
    "\n",
    "    # Batch sentences\n",
    "    sentence_batch_size = 20\n",
    "    script_batches = []\n",
    "    for index in range(0, len(script_sentences), sentence_batch_size):\n",
    "        sent = \" \".join(script_sentences[index:index+sentence_batch_size])\n",
    "        script_batches.append(sent)\n",
    "    \n",
    "    #  Run Model\n",
    "    theme_output = theme_classifier(\n",
    "        script_batches[:2],\n",
    "        theme_list,\n",
    "        multi_label=True\n",
    "    )\n",
    "\n",
    "    # Wrangle Output\n",
    "    themes = {}\n",
    "    for output in theme_output:\n",
    "        for label, score in zip(output['labels'], output['scores']):\n",
    "            if label not in themes:\n",
    "                themes[label] = []\n",
    "            themes[label].append(score)\n",
    "    \n",
    "    themes = {key: float(np.mean(np.array(value))) for key,value in themes.items()}\n",
    "\n",
    "    return themes"
   ]
  },
  {
   "cell_type": "code",
   "execution_count": 107,
   "id": "1159616d",
   "metadata": {},
   "outputs": [],
   "source": [
    "df = df.head(2)"
   ]
  },
  {
   "cell_type": "code",
   "execution_count": 108,
   "id": "38182732",
   "metadata": {},
   "outputs": [
    {
     "data": {
      "text/html": [
       "<div>\n",
       "<style scoped>\n",
       "    .dataframe tbody tr th:only-of-type {\n",
       "        vertical-align: middle;\n",
       "    }\n",
       "\n",
       "    .dataframe tbody tr th {\n",
       "        vertical-align: top;\n",
       "    }\n",
       "\n",
       "    .dataframe thead th {\n",
       "        text-align: right;\n",
       "    }\n",
       "</style>\n",
       "<table border=\"1\" class=\"dataframe\">\n",
       "  <thead>\n",
       "    <tr style=\"text-align: right;\">\n",
       "      <th></th>\n",
       "      <th>episode</th>\n",
       "      <th>script</th>\n",
       "    </tr>\n",
       "  </thead>\n",
       "  <tbody>\n",
       "    <tr>\n",
       "      <th>0</th>\n",
       "      <td>163</td>\n",
       "      <td>I want to try and gatherthe unrestrained winds...</td>\n",
       "    </tr>\n",
       "    <tr>\n",
       "      <th>1</th>\n",
       "      <td>48</td>\n",
       "      <td>Press down hard on the gas\\n That’s right, the...</td>\n",
       "    </tr>\n",
       "  </tbody>\n",
       "</table>\n",
       "</div>"
      ],
      "text/plain": [
       "   episode                                             script\n",
       "0      163  I want to try and gatherthe unrestrained winds...\n",
       "1       48  Press down hard on the gas\\n That’s right, the..."
      ]
     },
     "execution_count": 108,
     "metadata": {},
     "output_type": "execute_result"
    }
   ],
   "source": [
    "df"
   ]
  },
  {
   "cell_type": "code",
   "execution_count": 109,
   "id": "bf629d46",
   "metadata": {},
   "outputs": [],
   "source": [
    "output_themes = df['script'].apply(get_themes_inference)"
   ]
  },
  {
   "cell_type": "code",
   "execution_count": 110,
   "id": "c8eb0b6d",
   "metadata": {},
   "outputs": [
    {
     "data": {
      "text/plain": [
       "0    {'dialogue': 0.93843674659729, 'betrayal': 0.5...\n",
       "1    {'battle': 0.9050994515419006, 'dialogue': 0.9...\n",
       "Name: script, dtype: object"
      ]
     },
     "execution_count": 110,
     "metadata": {},
     "output_type": "execute_result"
    }
   ],
   "source": [
    "output_themes"
   ]
  },
  {
   "cell_type": "code",
   "execution_count": 111,
   "id": "8908745c",
   "metadata": {},
   "outputs": [],
   "source": [
    "theme_df = pd.DataFrame(output_themes.tolist())"
   ]
  },
  {
   "cell_type": "code",
   "execution_count": 112,
   "id": "5aebd2a7",
   "metadata": {},
   "outputs": [
    {
     "data": {
      "text/html": [
       "<div>\n",
       "<style scoped>\n",
       "    .dataframe tbody tr th:only-of-type {\n",
       "        vertical-align: middle;\n",
       "    }\n",
       "\n",
       "    .dataframe tbody tr th {\n",
       "        vertical-align: top;\n",
       "    }\n",
       "\n",
       "    .dataframe thead th {\n",
       "        text-align: right;\n",
       "    }\n",
       "</style>\n",
       "<table border=\"1\" class=\"dataframe\">\n",
       "  <thead>\n",
       "    <tr style=\"text-align: right;\">\n",
       "      <th></th>\n",
       "      <th>dialogue</th>\n",
       "      <th>betrayal</th>\n",
       "      <th>self development</th>\n",
       "      <th>scarifice</th>\n",
       "      <th>battle</th>\n",
       "      <th>love</th>\n",
       "      <th>friendship</th>\n",
       "      <th>hope</th>\n",
       "    </tr>\n",
       "  </thead>\n",
       "  <tbody>\n",
       "    <tr>\n",
       "      <th>0</th>\n",
       "      <td>0.938437</td>\n",
       "      <td>0.536547</td>\n",
       "      <td>0.683639</td>\n",
       "      <td>0.662463</td>\n",
       "      <td>0.404202</td>\n",
       "      <td>0.131441</td>\n",
       "      <td>0.207619</td>\n",
       "      <td>0.518703</td>\n",
       "    </tr>\n",
       "    <tr>\n",
       "      <th>1</th>\n",
       "      <td>0.958955</td>\n",
       "      <td>0.416744</td>\n",
       "      <td>0.918433</td>\n",
       "      <td>0.757559</td>\n",
       "      <td>0.905099</td>\n",
       "      <td>0.392423</td>\n",
       "      <td>0.543345</td>\n",
       "      <td>0.547491</td>\n",
       "    </tr>\n",
       "  </tbody>\n",
       "</table>\n",
       "</div>"
      ],
      "text/plain": [
       "   dialogue  betrayal  self development  scarifice    battle      love  \\\n",
       "0  0.938437  0.536547          0.683639   0.662463  0.404202  0.131441   \n",
       "1  0.958955  0.416744          0.918433   0.757559  0.905099  0.392423   \n",
       "\n",
       "   friendship      hope  \n",
       "0    0.207619  0.518703  \n",
       "1    0.543345  0.547491  "
      ]
     },
     "execution_count": 112,
     "metadata": {},
     "output_type": "execute_result"
    }
   ],
   "source": [
    "theme_df"
   ]
  },
  {
   "cell_type": "code",
   "execution_count": 113,
   "id": "4f79c836",
   "metadata": {},
   "outputs": [
    {
     "data": {
      "text/html": [
       "<div>\n",
       "<style scoped>\n",
       "    .dataframe tbody tr th:only-of-type {\n",
       "        vertical-align: middle;\n",
       "    }\n",
       "\n",
       "    .dataframe tbody tr th {\n",
       "        vertical-align: top;\n",
       "    }\n",
       "\n",
       "    .dataframe thead th {\n",
       "        text-align: right;\n",
       "    }\n",
       "</style>\n",
       "<table border=\"1\" class=\"dataframe\">\n",
       "  <thead>\n",
       "    <tr style=\"text-align: right;\">\n",
       "      <th></th>\n",
       "      <th>episode</th>\n",
       "      <th>script</th>\n",
       "    </tr>\n",
       "  </thead>\n",
       "  <tbody>\n",
       "    <tr>\n",
       "      <th>0</th>\n",
       "      <td>163</td>\n",
       "      <td>I want to try and gatherthe unrestrained winds...</td>\n",
       "    </tr>\n",
       "    <tr>\n",
       "      <th>1</th>\n",
       "      <td>48</td>\n",
       "      <td>Press down hard on the gas\\n That’s right, the...</td>\n",
       "    </tr>\n",
       "  </tbody>\n",
       "</table>\n",
       "</div>"
      ],
      "text/plain": [
       "   episode                                             script\n",
       "0      163  I want to try and gatherthe unrestrained winds...\n",
       "1       48  Press down hard on the gas\\n That’s right, the..."
      ]
     },
     "execution_count": 113,
     "metadata": {},
     "output_type": "execute_result"
    }
   ],
   "source": [
    "df"
   ]
  },
  {
   "cell_type": "code",
   "execution_count": 114,
   "id": "57678f7b",
   "metadata": {},
   "outputs": [
    {
     "data": {
      "text/html": [
       "<div>\n",
       "<style scoped>\n",
       "    .dataframe tbody tr th:only-of-type {\n",
       "        vertical-align: middle;\n",
       "    }\n",
       "\n",
       "    .dataframe tbody tr th {\n",
       "        vertical-align: top;\n",
       "    }\n",
       "\n",
       "    .dataframe thead th {\n",
       "        text-align: right;\n",
       "    }\n",
       "</style>\n",
       "<table border=\"1\" class=\"dataframe\">\n",
       "  <thead>\n",
       "    <tr style=\"text-align: right;\">\n",
       "      <th></th>\n",
       "      <th>episode</th>\n",
       "      <th>script</th>\n",
       "      <th>dialogue</th>\n",
       "      <th>betrayal</th>\n",
       "      <th>self development</th>\n",
       "      <th>scarifice</th>\n",
       "      <th>battle</th>\n",
       "      <th>love</th>\n",
       "      <th>friendship</th>\n",
       "      <th>hope</th>\n",
       "    </tr>\n",
       "  </thead>\n",
       "  <tbody>\n",
       "    <tr>\n",
       "      <th>0</th>\n",
       "      <td>163</td>\n",
       "      <td>I want to try and gatherthe unrestrained winds...</td>\n",
       "      <td>0.938437</td>\n",
       "      <td>0.536547</td>\n",
       "      <td>0.683639</td>\n",
       "      <td>0.662463</td>\n",
       "      <td>0.404202</td>\n",
       "      <td>0.131441</td>\n",
       "      <td>0.207619</td>\n",
       "      <td>0.518703</td>\n",
       "    </tr>\n",
       "    <tr>\n",
       "      <th>1</th>\n",
       "      <td>48</td>\n",
       "      <td>Press down hard on the gas\\n That’s right, the...</td>\n",
       "      <td>0.958955</td>\n",
       "      <td>0.416744</td>\n",
       "      <td>0.918433</td>\n",
       "      <td>0.757559</td>\n",
       "      <td>0.905099</td>\n",
       "      <td>0.392423</td>\n",
       "      <td>0.543345</td>\n",
       "      <td>0.547491</td>\n",
       "    </tr>\n",
       "  </tbody>\n",
       "</table>\n",
       "</div>"
      ],
      "text/plain": [
       "   episode                                             script  dialogue  \\\n",
       "0      163  I want to try and gatherthe unrestrained winds...  0.938437   \n",
       "1       48  Press down hard on the gas\\n That’s right, the...  0.958955   \n",
       "\n",
       "   betrayal  self development  scarifice    battle      love  friendship  \\\n",
       "0  0.536547          0.683639   0.662463  0.404202  0.131441    0.207619   \n",
       "1  0.416744          0.918433   0.757559  0.905099  0.392423    0.543345   \n",
       "\n",
       "       hope  \n",
       "0  0.518703  \n",
       "1  0.547491  "
      ]
     },
     "execution_count": 114,
     "metadata": {},
     "output_type": "execute_result"
    }
   ],
   "source": [
    "df[theme_df.columns] = theme_df\n",
    "df"
   ]
  },
  {
   "cell_type": "markdown",
   "id": "11fb1d14",
   "metadata": {},
   "source": [
    "# Visualize Output"
   ]
  },
  {
   "cell_type": "code",
   "execution_count": null,
   "id": "d30b9395",
   "metadata": {},
   "outputs": [
    {
     "data": {
      "text/html": [
       "<div>\n",
       "<style scoped>\n",
       "    .dataframe tbody tr th:only-of-type {\n",
       "        vertical-align: middle;\n",
       "    }\n",
       "\n",
       "    .dataframe tbody tr th {\n",
       "        vertical-align: top;\n",
       "    }\n",
       "\n",
       "    .dataframe thead th {\n",
       "        text-align: right;\n",
       "    }\n",
       "</style>\n",
       "<table border=\"1\" class=\"dataframe\">\n",
       "  <thead>\n",
       "    <tr style=\"text-align: right;\">\n",
       "      <th></th>\n",
       "      <th>episode</th>\n",
       "      <th>script</th>\n",
       "      <th>betrayal</th>\n",
       "      <th>self development</th>\n",
       "      <th>scarifice</th>\n",
       "      <th>battle</th>\n",
       "      <th>love</th>\n",
       "      <th>friendship</th>\n",
       "      <th>hope</th>\n",
       "    </tr>\n",
       "  </thead>\n",
       "  <tbody>\n",
       "    <tr>\n",
       "      <th>0</th>\n",
       "      <td>163</td>\n",
       "      <td>I want to try and gatherthe unrestrained winds...</td>\n",
       "      <td>0.536547</td>\n",
       "      <td>0.683639</td>\n",
       "      <td>0.662463</td>\n",
       "      <td>0.404202</td>\n",
       "      <td>0.131441</td>\n",
       "      <td>0.207619</td>\n",
       "      <td>0.518703</td>\n",
       "    </tr>\n",
       "    <tr>\n",
       "      <th>1</th>\n",
       "      <td>48</td>\n",
       "      <td>Press down hard on the gas\\n That’s right, the...</td>\n",
       "      <td>0.416744</td>\n",
       "      <td>0.918433</td>\n",
       "      <td>0.757559</td>\n",
       "      <td>0.905099</td>\n",
       "      <td>0.392423</td>\n",
       "      <td>0.543345</td>\n",
       "      <td>0.547491</td>\n",
       "    </tr>\n",
       "  </tbody>\n",
       "</table>\n",
       "</div>"
      ],
      "text/plain": [
       "   episode                                             script  betrayal  \\\n",
       "0      163  I want to try and gatherthe unrestrained winds...  0.536547   \n",
       "1       48  Press down hard on the gas\\n That’s right, the...  0.416744   \n",
       "\n",
       "   self development  scarifice    battle      love  friendship      hope  \n",
       "0          0.683639   0.662463  0.404202  0.131441    0.207619  0.518703  \n",
       "1          0.918433   0.757559  0.905099  0.392423    0.543345  0.547491  "
      ]
     },
     "execution_count": 115,
     "metadata": {},
     "output_type": "execute_result"
    }
   ],
   "source": [
    "df = df.drop('dialogue', axis=1)"
   ]
  },
  {
   "cell_type": "code",
   "execution_count": 119,
   "id": "49c57b64",
   "metadata": {},
   "outputs": [
    {
     "data": {
      "text/html": [
       "<div>\n",
       "<style scoped>\n",
       "    .dataframe tbody tr th:only-of-type {\n",
       "        vertical-align: middle;\n",
       "    }\n",
       "\n",
       "    .dataframe tbody tr th {\n",
       "        vertical-align: top;\n",
       "    }\n",
       "\n",
       "    .dataframe thead th {\n",
       "        text-align: right;\n",
       "    }\n",
       "</style>\n",
       "<table border=\"1\" class=\"dataframe\">\n",
       "  <thead>\n",
       "    <tr style=\"text-align: right;\">\n",
       "      <th></th>\n",
       "      <th>theme</th>\n",
       "      <th>score</th>\n",
       "    </tr>\n",
       "  </thead>\n",
       "  <tbody>\n",
       "    <tr>\n",
       "      <th>0</th>\n",
       "      <td>betrayal</td>\n",
       "      <td>0.953290</td>\n",
       "    </tr>\n",
       "    <tr>\n",
       "      <th>1</th>\n",
       "      <td>self development</td>\n",
       "      <td>1.602072</td>\n",
       "    </tr>\n",
       "    <tr>\n",
       "      <th>2</th>\n",
       "      <td>scarifice</td>\n",
       "      <td>1.420022</td>\n",
       "    </tr>\n",
       "    <tr>\n",
       "      <th>3</th>\n",
       "      <td>battle</td>\n",
       "      <td>1.309301</td>\n",
       "    </tr>\n",
       "    <tr>\n",
       "      <th>4</th>\n",
       "      <td>love</td>\n",
       "      <td>0.523863</td>\n",
       "    </tr>\n",
       "    <tr>\n",
       "      <th>5</th>\n",
       "      <td>friendship</td>\n",
       "      <td>0.750963</td>\n",
       "    </tr>\n",
       "    <tr>\n",
       "      <th>6</th>\n",
       "      <td>hope</td>\n",
       "      <td>1.066194</td>\n",
       "    </tr>\n",
       "  </tbody>\n",
       "</table>\n",
       "</div>"
      ],
      "text/plain": [
       "              theme     score\n",
       "0          betrayal  0.953290\n",
       "1  self development  1.602072\n",
       "2         scarifice  1.420022\n",
       "3            battle  1.309301\n",
       "4              love  0.523863\n",
       "5        friendship  0.750963\n",
       "6              hope  1.066194"
      ]
     },
     "execution_count": 119,
     "metadata": {},
     "output_type": "execute_result"
    }
   ],
   "source": [
    "theme_output = df.drop(['episode', 'script'], axis=1).sum().reset_index()\n",
    "theme_output.columns = ['theme', 'score']\n",
    "theme_output"
   ]
  },
  {
   "cell_type": "code",
   "execution_count": 121,
   "id": "e47fd8ee",
   "metadata": {},
   "outputs": [],
   "source": [
    "import matplotlib.pyplot as plt\n",
    "import seaborn as sns"
   ]
  },
  {
   "cell_type": "code",
   "execution_count": 123,
   "id": "2e65a1ae",
   "metadata": {},
   "outputs": [
    {
     "data": {
      "image/png": "[encoded data removed]",
      "text/plain": [
       "<Figure size 640x480 with 1 Axes>"
      ]
     },
     "metadata": {},
     "output_type": "display_data"
    }
   ],
   "source": [
    "sns.barplot(data=theme_output, x=\"theme\", y=\"score\")\n",
    "plt.xticks(rotation=45)\n",
    "plt.show()"
   ]
  },
  {
   "cell_type": "code",
   "execution_count": null,
   "id": "79137889",
   "metadata": {},
   "outputs": [],
   "source": []
  }
 ],
 "metadata": {
  "kernelspec": {
   "display_name": ".venv",
   "language": "python",
   "name": "python3"
  },
  "language_info": {
   "codemirror_mode": {
    "name": "ipython",
    "version": 3
   },
   "file_extension": ".py",
   "mimetype": "text/x-python",
   "name": "python",
   "nbconvert_exporter": "python",
   "pygments_lexer": "ipython3",
   "version": "3.10.12"
  }
 },
 "nbformat": 4,
 "nbformat_minor": 5
}
