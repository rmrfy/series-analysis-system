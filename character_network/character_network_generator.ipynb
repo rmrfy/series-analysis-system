{
 "cells": [
  {
   "cell_type": "markdown",
   "id": "3c2e64e6",
   "metadata": {},
   "source": [
    "# Named Entity Recognition"
   ]
  },
  {
   "cell_type": "code",
   "execution_count": 89,
   "id": "543ce68d",
   "metadata": {},
   "outputs": [],
   "source": [
    "import spacy\n",
    "from nltk import sent_tokenize\n"
   ]
  },
  {
   "cell_type": "code",
   "execution_count": 90,
   "id": "12ca88f2",
   "metadata": {},
   "outputs": [],
   "source": [
    "# !pip install spacy[transformers] spacy-curated-transformers\n",
    "# !python -m spacy download en_core_web_trf"
   ]
  },
  {
   "cell_type": "markdown",
   "id": "5c4684d5",
   "metadata": {},
   "source": [
    "# Load Model"
   ]
  },
  {
   "cell_type": "code",
   "execution_count": 91,
   "id": "882e755b",
   "metadata": {},
   "outputs": [],
   "source": [
    "def load_model():\n",
    "    nlp = spacy.load(\"en_core_web_trf\")\n",
    "    return nlp"
   ]
  },
  {
   "cell_type": "code",
   "execution_count": 92,
   "id": "56865a94",
   "metadata": {},
   "outputs": [],
   "source": [
    "nlp_model = load_model()"
   ]
  },
  {
   "cell_type": "markdown",
   "id": "3a96b3e2",
   "metadata": {},
   "source": [
    "# Load Dataset"
   ]
  },
  {
   "cell_type": "code",
   "execution_count": 93,
   "id": "37505ffb",
   "metadata": {},
   "outputs": [],
   "source": [
    "import os\n",
    "import sys\n",
    "import pathlib\n",
    "folder_path = pathlib.Path().parent.resolve()\n",
    "sys.path.append(os.path.join(folder_path, '../'))\n",
    "from utils import load_subtitles_dataset"
   ]
  },
  {
   "cell_type": "code",
   "execution_count": 94,
   "id": "a8fb1e2d",
   "metadata": {},
   "outputs": [],
   "source": [
    "dataset_path = \"../data/Subtitles/\"\n",
    "df = load_subtitles_dataset(dataset_path)"
   ]
  },
  {
   "cell_type": "code",
   "execution_count": 95,
   "id": "1515cdd2",
   "metadata": {},
   "outputs": [
    {
     "data": {
      "text/html": [
       "<div>\n",
       "<style scoped>\n",
       "    .dataframe tbody tr th:only-of-type {\n",
       "        vertical-align: middle;\n",
       "    }\n",
       "\n",
       "    .dataframe tbody tr th {\n",
       "        vertical-align: top;\n",
       "    }\n",
       "\n",
       "    .dataframe thead th {\n",
       "        text-align: right;\n",
       "    }\n",
       "</style>\n",
       "<table border=\"1\" class=\"dataframe\">\n",
       "  <thead>\n",
       "    <tr style=\"text-align: right;\">\n",
       "      <th></th>\n",
       "      <th>episode</th>\n",
       "      <th>script</th>\n",
       "    </tr>\n",
       "  </thead>\n",
       "  <tbody>\n",
       "    <tr>\n",
       "      <th>0</th>\n",
       "      <td>163</td>\n",
       "      <td>I want to try and gatherthe unrestrained winds...</td>\n",
       "    </tr>\n",
       "    <tr>\n",
       "      <th>1</th>\n",
       "      <td>48</td>\n",
       "      <td>Press down hard on the gas\\n That’s right, the...</td>\n",
       "    </tr>\n",
       "    <tr>\n",
       "      <th>2</th>\n",
       "      <td>60</td>\n",
       "      <td>Yeah, turn your sadness into kindness,your uni...</td>\n",
       "    </tr>\n",
       "    <tr>\n",
       "      <th>3</th>\n",
       "      <td>107</td>\n",
       "      <td>Connecting old wordsthat have been used up\\n I...</td>\n",
       "    </tr>\n",
       "    <tr>\n",
       "      <th>4</th>\n",
       "      <td>66</td>\n",
       "      <td>Yeah, turn your sadness into kindness,your uni...</td>\n",
       "    </tr>\n",
       "  </tbody>\n",
       "</table>\n",
       "</div>"
      ],
      "text/plain": [
       "   episode                                             script\n",
       "0      163  I want to try and gatherthe unrestrained winds...\n",
       "1       48  Press down hard on the gas\\n That’s right, the...\n",
       "2       60  Yeah, turn your sadness into kindness,your uni...\n",
       "3      107  Connecting old wordsthat have been used up\\n I...\n",
       "4       66  Yeah, turn your sadness into kindness,your uni..."
      ]
     },
     "execution_count": 95,
     "metadata": {},
     "output_type": "execute_result"
    }
   ],
   "source": [
    "df.head()"
   ]
  },
  {
   "cell_type": "code",
   "execution_count": 96,
   "id": "59d74505",
   "metadata": {},
   "outputs": [
    {
     "data": {
      "text/plain": [
       "\"I want to try and gatherthe unrestrained winds\\n I’ll run toward the horizon,alongside the wave crests\\n I’ve made my decision,\\n even if there’s a long way to goon that road.\\n I’ll continue towards the future I’ve planned\\n Time rushes usThe heartbeat speeds up\\n When I woke in the middle of a dreamI kept searching for that same light\\n Under the shining star-lit sky withcountless constellations and shadows\\n There was something beyond that…What were you gazing at?\\n What were you gazing at?\\n Is this really Moso’s house?\\n Here he’s a superintendant officer,\\n so I thought it’d be a more luxuriousbuilding with gold folding screens.\\n Your voices are too loud.\\n Lord Moso is a magnificent personwith no self-interests.\\n So he lives frugally.\\n But you know, he’s an old man\\n who’s the second most important guyin the land next to the feudal lord, right?\\n He smacks of being really poor.\\n Naruto!\\n Well well, how shameful of meto present such a poor residence.\\n Lord Moso.\\n What?!\\n This old man like fromsome dumpling shop?\\n I’m an old man froma dumpling shop?\\n Geez, unbelievable!\\n Idiot!\\n What’re you doing, Neji?!\\n Well, make yourselves comfortable.\\n So you are Ninja who came fromthe Village Hidden in Leaves?\\n From the right,this is Naruto, Neji and Tenten.\\n I hear you encounteredthe Cursed Warrior that appeared\\n in Lord Komei’s residence last night.\\n Yes.\\n So, how did it go?\\n Did you figure out the true identityof the Cursed Warrior?\\n Yeah, it’s a real ghost.\\n Oh, a ghost, huh?\\n Don’t be jumping to conclusionson your own.\\n But he appears all of a suddenand flies around.\\n Yeah, and on top of that,the inside of his armor was empty.\\n No matter how bizarre the thing,there’s always a trick.\\n I’ll pin down the true identity without fail.\\n That is encouraging…\\n We have just changed feudal lordsand the public is still anxious.\\n Please eliminate the rumors ofthe Cursed Warrior as soon as possible.\\n I beg of you.\\n Please!\\n Tsurucho Yakitori\\n Here are your chicken wings.\\n Oh, here we go!\\n They look tasty!\\n Hot!\\n That Moso superintendant officerseems like a good guy.\\n Yes. It was also Lord Mosowho came to my rescue\\n and selected me to be a page.\\n The son of the feudal lord succeeds him\\n and an excellent superintendant officeroffers him tutelage…\\n The government appearsto be stable, but…\\n Then why is there a strange rumorgoing around\\n about the hauntingof the previous feudal lord?\\n There’s probably somebody displeased\\n with this dramatic replacementof the feudal lord.\\n Do you have any idea who it might be?\\n Well, it might be Lord Komei, after all.\\n Isn't that the name ofthe tactician you were talking about\\n who wanted to become the feudal lord?\\n Then why did the Cursed Warriorappear in his residence?\\n Perhaps to deflect attention.\\n That’s it. \\t\\t\\t\\t\\tI bet that’s it.\\n All right, since it’s come to this,\\n if we can nab that old mancalled Komei or whatever\\n and quickly get him to own up…\\n Guys, let’s get fired up andget going!\\n Idiot. We can’t do somethinglike that without proof.\\n He is a tactician of this landmore or less, so.\\n Oh man, that’s no fun.\\n First, I want to meet Lord Sagi,the feudal lord.\\n That’s not possible. Lord Sagidoes not like to meet anybody.\\n Don’t be such a stick-in-the-mud.Let us meet him, okay?\\n You’re a “nipple” friend, right?\\n If you’re going to say that,say, “childhood friend.”\\n Huh?\\n Can we really meet himin a place like this?\\n This lake holds fond memoriesfor Lord Sagi.\\n And…for me as well.\\n In our young days,\\n Lord Sagi always played withhis little sister Lady Toki here.\\n He might come here around about todaywith his attendants…\\n If we’re lucky.\\n It’s up to luck, huh?\\n It’s Lord Sagi.\\n Lord Sagi, we have arrived.\\n Thank you.\\n Oh wow…So that’s Lord Sagi, huh?\\n He’s cute. He is kind of my liking…\\n My watch has remained stoppedsince that time.\\n Hey, what’s he doing?\\n He’s probably reminiscing.\\n The only thing that can comfortLord Sagi’s heart\\n is his memories with Lady Toki.\\n Byakugan.\\n Where is it?\\n Where’s this bloodthirsty auracoming from?\\n It’s not above ground?\\n Could it be, underwater…?\\n Assassins! Protect Lord Sagi!\\n I don’t think so!\\n Who the heck are you guys?\\n Damn it!I won’t let you get away.\\n Wait, Naruto!\\n What is it?\\n A letter bomb in the water.\\n That was a close one.\\n If you’d chased after them as is,you would’ve been totally entangled.\\n Settle down.\\n Lord Sagi!\\n Are you all right?!\\n Yes, I’m fine.\\n Thank goodness!\\n Lord Sagi, these three are Ninjafrom the Village Hidden in Leaves…\\n They came to investigatethe true identity of the Cursed Warrior.\\n That was unnecessary.I bet it was that  Moso’s idea?\\n It was all becausehe was worried for your life, Lord Sagi.\\n The fact is, if these peoplewere not here now…\\n Silence.\\n Y-Yes, my lord.\\n Hey-hey, do you really not gethow this guy feels?!\\n Chishima was seriouslyworried about you.\\n Without his passionate friendship,\\n the Hidden Leaf Village wouldn’t havetaken action with that low commission fee.\\n I am not obliged.\\n How bothersome!\\n Say what?!\\n Friendship is in the past.\\n I became a feudal lord andhe is a mere page.\\n We are now standing ondifferent surfaces.\\n Say that again! I’ll slug the guywho tramples on friendship--!\\n Let it go, Naruto.\\n What’re you doing?! Let go of me!\\n I have to give guys like thisa good thumping!\\n You are talking about a feudal lord!\\n It would have been betterhad it pierced my throat.\\n Go.\\n Yes, my lord.\\n Jeez, who does he think he is?!\\n Jeez, a feudal lord.\\n Please forgive him.\\n What? You don’t have a problemwith being told off like that?!\\n He wasn’t like that in the old days.\\n His father and little sisterdied in succession\\n and he became cold-hearted.\\n So that’s what it was.\\n I’m sure the day will come\\n when he will turn back intothe kind-hearted Lord Sagi.\\n I don’t know about that.\\n The Shuriken from before.\\n This is an odd shape.\\n Hm? Let me have a look.\\n Oh!\\n Does it look familiar to youor something?\\n Y-Yes. There are no Ninjain the Land of Birds.\\n But there are guardsmenreceiving special training.\\n Is it a weapon those people use?\\n Yes.\\n Who commands those guardsmen?\\n The person who organizes themis Lord Komei the tactician.\\n Say what?!\\n Komei again.\\n Komei must have originally thought tomislead the public with the Cursed Warrior\\n and attempted to createa rift between Lord Sagi and Moso.\\n But the relationship betweenthe two is tight.\\n And by Moso summoning us here,he probably sensed that the day\\n was approaching when the truthbehind the incident would be revealed\\n and he plottedto assassinate Lord Sagi.\\n If we’ve figured out that much,let’s charge on in--!\\n Hold your horses, Naruto.\\n We have to find more hard evidence.\\n Hey, is that how it is?\\n Yeah, that’s how it is.\\n Neji, look at that.\\n No doubt, it’s Komei!\\n To think he’d go out without attendants\\n even though the Cursed Warriormight appear.\\n All right, let’s follow him.\\n This is the temple wherethe Cursed Warrior appeared last night.\\n Something smells fishy.\\n He’s shown up…!\\n Byakugan.\\n What’s this?!\\n There’s no need to waver anymore!\\n Hey! Wait.\\n I’ve witnessed the true identityof the ghost!\\n Who’s there?\\n Hey hey, Komei!\\n You’re the one responsiblefor controlling the Cursed Warrior, right?\\n What?\\n H-Hold it!\\n Naruto, get down!\\n I did it!\\n Damn it! No good.\\n This thing’s not just a ghost, after all.\\n A tornado?\\n I can’t see the Cursed Warrior!\\n Byakugan.\\n A Shuriken Shadow Clone?!\\n 8 Trigrams Palm Rotation!\\n What’re you letting your mind drift for?!\\n Sorry… I never thought a ghost coulduse Ninjutsu.\\n It’s not a ghost inside the armor.lt’s a Shinobi.\\n And quite a wily one at that.\\n This is the same shapeas the shuriken from this afternoon.\\n He’s an important witness.Take him alive.\\n Leave it to me!\\n But we can’t take him alive\\n if we don’t do something aboutthat tornado.\\n Naruto.\\n I’m counting on you!\\n Right. I’ll try!\\n Tenten, use as many weaponsas possible and draw his attention.\\n Roger.\\n No good. No effect at all.\\n That’s fine. Just keep at it.\\n Neji…now!\\n Gentle Fist Technique,8 Trigrams 64 Palms.\\n 8 Trigrams 2 Palms.\\n 4 Palms.\\n 8 Palms.\\n 16 Palms.\\n 32 Palms.\\n 64 Palms.\\n All right, we did it!\\n We’ll find out the true identityfor sure this time.\\n Show us your real face.\\n What’s this?\\n It’s empty again.\\n This can’t be!\\n Lord Komei, we have seized froma storeroom in your residence,\\n one suit of white armor alongwith guardsmen Shuriken.\\n We would like you to reportto the magistrate’s office\\n as a material witness inthe recent Cursed Warrior incident\\n as well as the attempted assassinationof Lord Sagi.\\n I have no choice.\\n Thank you very much.\\n With this, Lord Sagi’s heart shouldsettle down somewhat.\\n Case closed.\\n Still, they were sure prepared.\\n Here an hour has barely passedsince contacting Moso.\\n At that time…\\n – Huh? \\t\\t\\t\\t\\t– Huh?\\n There was a human presencein tonight’s Cursed Warrior.\\n The presence of someone alive.\\n A presence?\\n But you said you didn’t feel sucha presence in the first Cursed Warrior.\\n Yeah.\\n Hey, what does that mean?\\n In other words, the two Cursed Warriorare separate beings.\\n So many things happenon this endless road, huh?\\n Although you’re strong-willed,your voice wavered on the phone today\\n What dreams did you chase to get here?\\n Even I have times whenI just don’t understand, baby\\n When you’re sad, I’ll be close to you\\n Even on nights when we’re apart,I’ll be close to you\\n I’ll be close to you\\n How can we go back to the villagewhen there's all this mystery?\\n If we're gonna investigate,this has to be it.\\n What? Could this black thing be…?\\n I get it! We use thisto get through the dark…\\n Hey, why did we end upin a place like this?!\\n Next: “Too Late for Help”\\n\""
      ]
     },
     "execution_count": 96,
     "metadata": {},
     "output_type": "execute_result"
    }
   ],
   "source": [
    "sample_script = df.iloc[0]['script']\n",
    "sample_script"
   ]
  },
  {
   "cell_type": "code",
   "execution_count": 97,
   "id": "d34b2634",
   "metadata": {},
   "outputs": [],
   "source": [
    "sentences = sent_tokenize(sample_script)"
   ]
  },
  {
   "cell_type": "code",
   "execution_count": 98,
   "id": "fb16623d",
   "metadata": {},
   "outputs": [],
   "source": [
    "sentences = sentences[90:120]"
   ]
  },
  {
   "cell_type": "code",
   "execution_count": 99,
   "id": "00c394ba",
   "metadata": {},
   "outputs": [],
   "source": [
    "sentence = \".\".join(sentences)"
   ]
  },
  {
   "cell_type": "markdown",
   "id": "3aab83a2",
   "metadata": {},
   "source": [
    "# Run Model"
   ]
  },
  {
   "cell_type": "code",
   "execution_count": 100,
   "id": "4463de58",
   "metadata": {},
   "outputs": [
    {
     "name": "stderr",
     "output_type": "stream",
     "text": [
      "/home/ashish/development/series-analysis-system/.venv/lib/python3.10/site-packages/thinc/shims/pytorch.py:114: FutureWarning: `torch.cuda.amp.autocast(args...)` is deprecated. Please use `torch.amp.autocast('cuda', args...)` instead.\n",
      "  with torch.cuda.amp.autocast(self._mixed_precision):\n"
     ]
    }
   ],
   "source": [
    "doc = nlp_model(sentence)"
   ]
  },
  {
   "cell_type": "code",
   "execution_count": 101,
   "id": "10058068",
   "metadata": {},
   "outputs": [
    {
     "data": {
      "text/plain": [
       "(Sagi, three, Moso, Sagi, the Hidden Leaf Village, Naruto)"
      ]
     },
     "execution_count": 101,
     "metadata": {},
     "output_type": "execute_result"
    }
   ],
   "source": [
    "doc.ents"
   ]
  },
  {
   "cell_type": "code",
   "execution_count": 102,
   "id": "11d51d48",
   "metadata": {},
   "outputs": [
    {
     "name": "stdout",
     "output_type": "stream",
     "text": [
      "Sagi PERSON\n",
      "three CARDINAL\n",
      "Moso PERSON\n",
      "Sagi PERSON\n",
      "the Hidden Leaf Village ORG\n",
      "Naruto PERSON\n"
     ]
    }
   ],
   "source": [
    "for entity in doc.ents:\n",
    "    print(entity, entity.label_)"
   ]
  },
  {
   "cell_type": "code",
   "execution_count": 103,
   "id": "fc55a766",
   "metadata": {},
   "outputs": [],
   "source": [
    "def get_ners_inference(script):\n",
    "    script_sentences = sent_tokenize(script)\n",
    "\n",
    "    ner_output = []\n",
    "\n",
    "    for sentence in script_sentences:\n",
    "        doc = nlp_model(sentence)\n",
    "        ners = set()\n",
    "        for entity in doc.ents:\n",
    "            if entity.label_ == \"PERSON\":\n",
    "                full_name = entity.text\n",
    "                first_name = entity.text.split(\" \")[0]\n",
    "                first_name = first_name.strip()\n",
    "                ners.add(first_name)\n",
    "        ner_output.append(ners)\n",
    "\n",
    "    return ner_output"
   ]
  },
  {
   "cell_type": "code",
   "execution_count": 104,
   "id": "36acfdf4",
   "metadata": {},
   "outputs": [],
   "source": [
    "df = df.head(10)"
   ]
  },
  {
   "cell_type": "code",
   "execution_count": 105,
   "id": "3adecf97",
   "metadata": {},
   "outputs": [
    {
     "data": {
      "text/html": [
       "<div>\n",
       "<style scoped>\n",
       "    .dataframe tbody tr th:only-of-type {\n",
       "        vertical-align: middle;\n",
       "    }\n",
       "\n",
       "    .dataframe tbody tr th {\n",
       "        vertical-align: top;\n",
       "    }\n",
       "\n",
       "    .dataframe thead th {\n",
       "        text-align: right;\n",
       "    }\n",
       "</style>\n",
       "<table border=\"1\" class=\"dataframe\">\n",
       "  <thead>\n",
       "    <tr style=\"text-align: right;\">\n",
       "      <th></th>\n",
       "      <th>episode</th>\n",
       "      <th>script</th>\n",
       "    </tr>\n",
       "  </thead>\n",
       "  <tbody>\n",
       "    <tr>\n",
       "      <th>0</th>\n",
       "      <td>163</td>\n",
       "      <td>I want to try and gatherthe unrestrained winds...</td>\n",
       "    </tr>\n",
       "    <tr>\n",
       "      <th>1</th>\n",
       "      <td>48</td>\n",
       "      <td>Press down hard on the gas\\n That’s right, the...</td>\n",
       "    </tr>\n",
       "    <tr>\n",
       "      <th>2</th>\n",
       "      <td>60</td>\n",
       "      <td>Yeah, turn your sadness into kindness,your uni...</td>\n",
       "    </tr>\n",
       "    <tr>\n",
       "      <th>3</th>\n",
       "      <td>107</td>\n",
       "      <td>Connecting old wordsthat have been used up\\n I...</td>\n",
       "    </tr>\n",
       "    <tr>\n",
       "      <th>4</th>\n",
       "      <td>66</td>\n",
       "      <td>Yeah, turn your sadness into kindness,your uni...</td>\n",
       "    </tr>\n",
       "    <tr>\n",
       "      <th>5</th>\n",
       "      <td>205</td>\n",
       "      <td>Fly into the wavy and twisted sky,into your ha...</td>\n",
       "    </tr>\n",
       "    <tr>\n",
       "      <th>6</th>\n",
       "      <td>47</td>\n",
       "      <td>Press down hard on the gas\\n That’s right, the...</td>\n",
       "    </tr>\n",
       "    <tr>\n",
       "      <th>7</th>\n",
       "      <td>88</td>\n",
       "      <td>We are Fighting Dreamers aiming high\\n Fightin...</td>\n",
       "    </tr>\n",
       "    <tr>\n",
       "      <th>8</th>\n",
       "      <td>2</td>\n",
       "      <td>C'mon!\\n Running like a fugitive,\\n Being chas...</td>\n",
       "    </tr>\n",
       "    <tr>\n",
       "      <th>9</th>\n",
       "      <td>108</td>\n",
       "      <td>Connecting old wordsthat have been used up\\n I...</td>\n",
       "    </tr>\n",
       "  </tbody>\n",
       "</table>\n",
       "</div>"
      ],
      "text/plain": [
       "   episode                                             script\n",
       "0      163  I want to try and gatherthe unrestrained winds...\n",
       "1       48  Press down hard on the gas\\n That’s right, the...\n",
       "2       60  Yeah, turn your sadness into kindness,your uni...\n",
       "3      107  Connecting old wordsthat have been used up\\n I...\n",
       "4       66  Yeah, turn your sadness into kindness,your uni...\n",
       "5      205  Fly into the wavy and twisted sky,into your ha...\n",
       "6       47  Press down hard on the gas\\n That’s right, the...\n",
       "7       88  We are Fighting Dreamers aiming high\\n Fightin...\n",
       "8        2  C'mon!\\n Running like a fugitive,\\n Being chas...\n",
       "9      108  Connecting old wordsthat have been used up\\n I..."
      ]
     },
     "execution_count": 105,
     "metadata": {},
     "output_type": "execute_result"
    }
   ],
   "source": [
    "df"
   ]
  },
  {
   "cell_type": "code",
   "execution_count": 106,
   "id": "cec3ac46",
   "metadata": {},
   "outputs": [
    {
     "name": "stderr",
     "output_type": "stream",
     "text": [
      "/home/ashish/development/series-analysis-system/.venv/lib/python3.10/site-packages/thinc/shims/pytorch.py:114: FutureWarning: `torch.cuda.amp.autocast(args...)` is deprecated. Please use `torch.amp.autocast('cuda', args...)` instead.\n",
      "  with torch.cuda.amp.autocast(self._mixed_precision):\n"
     ]
    }
   ],
   "source": [
    "df['ners'] = df['script'].apply(get_ners_inference)"
   ]
  },
  {
   "cell_type": "code",
   "execution_count": 107,
   "id": "0cd90171",
   "metadata": {},
   "outputs": [
    {
     "data": {
      "text/html": [
       "<div>\n",
       "<style scoped>\n",
       "    .dataframe tbody tr th:only-of-type {\n",
       "        vertical-align: middle;\n",
       "    }\n",
       "\n",
       "    .dataframe tbody tr th {\n",
       "        vertical-align: top;\n",
       "    }\n",
       "\n",
       "    .dataframe thead th {\n",
       "        text-align: right;\n",
       "    }\n",
       "</style>\n",
       "<table border=\"1\" class=\"dataframe\">\n",
       "  <thead>\n",
       "    <tr style=\"text-align: right;\">\n",
       "      <th></th>\n",
       "      <th>episode</th>\n",
       "      <th>script</th>\n",
       "      <th>ners</th>\n",
       "    </tr>\n",
       "  </thead>\n",
       "  <tbody>\n",
       "    <tr>\n",
       "      <th>0</th>\n",
       "      <td>163</td>\n",
       "      <td>I want to try and gatherthe unrestrained winds...</td>\n",
       "      <td>[{}, {}, {}, {Moso}, {}, {}, {Moso}, {}, {}, {...</td>\n",
       "    </tr>\n",
       "    <tr>\n",
       "      <th>1</th>\n",
       "      <td>48</td>\n",
       "      <td>Press down hard on the gas\\n That’s right, the...</td>\n",
       "      <td>[{}, {}, {}, {}, {}, {}, {}, {}, {Naruto}, {},...</td>\n",
       "    </tr>\n",
       "    <tr>\n",
       "      <th>2</th>\n",
       "      <td>60</td>\n",
       "      <td>Yeah, turn your sadness into kindness,your uni...</td>\n",
       "      <td>[{}, {}, {}, {Naruto}, {}, {}, {Sasuke}, {Dosu...</td>\n",
       "    </tr>\n",
       "    <tr>\n",
       "      <th>3</th>\n",
       "      <td>107</td>\n",
       "      <td>Connecting old wordsthat have been used up\\n I...</td>\n",
       "      <td>[{}, {}, {Naruto, Sasuke}, {}, {Naruto, Sasuke...</td>\n",
       "    </tr>\n",
       "    <tr>\n",
       "      <th>4</th>\n",
       "      <td>66</td>\n",
       "      <td>Yeah, turn your sadness into kindness,your uni...</td>\n",
       "      <td>[{}, {}, {}, {}, {}, {}, {}, {Bushy}, {Guy}, {...</td>\n",
       "    </tr>\n",
       "    <tr>\n",
       "      <th>5</th>\n",
       "      <td>205</td>\n",
       "      <td>Fly into the wavy and twisted sky,into your ha...</td>\n",
       "      <td>[{}, {}, {}, {Yakumo}, {}, {}, {Yakumo}, {}, {...</td>\n",
       "    </tr>\n",
       "    <tr>\n",
       "      <th>6</th>\n",
       "      <td>47</td>\n",
       "      <td>Press down hard on the gas\\n That’s right, the...</td>\n",
       "      <td>[{}, {Hinata, Neji}, {}, {}, {Hinata}, {Naruto...</td>\n",
       "    </tr>\n",
       "    <tr>\n",
       "      <th>7</th>\n",
       "      <td>88</td>\n",
       "      <td>We are Fighting Dreamers aiming high\\n Fightin...</td>\n",
       "      <td>[{Oli}, {}, {}, {}, {}, {Oli}, {}, {}, {}, {},...</td>\n",
       "    </tr>\n",
       "    <tr>\n",
       "      <th>8</th>\n",
       "      <td>2</td>\n",
       "      <td>C'mon!\\n Running like a fugitive,\\n Being chas...</td>\n",
       "      <td>[{}, {}, {}, {}, {}, {}, {}, {}, {Konohamaru},...</td>\n",
       "    </tr>\n",
       "    <tr>\n",
       "      <th>9</th>\n",
       "      <td>108</td>\n",
       "      <td>Connecting old wordsthat have been used up\\n I...</td>\n",
       "      <td>[{}, {}, {}, {}, {}, {}, {}, {}, {}, {}, {}, {...</td>\n",
       "    </tr>\n",
       "  </tbody>\n",
       "</table>\n",
       "</div>"
      ],
      "text/plain": [
       "   episode                                             script  \\\n",
       "0      163  I want to try and gatherthe unrestrained winds...   \n",
       "1       48  Press down hard on the gas\\n That’s right, the...   \n",
       "2       60  Yeah, turn your sadness into kindness,your uni...   \n",
       "3      107  Connecting old wordsthat have been used up\\n I...   \n",
       "4       66  Yeah, turn your sadness into kindness,your uni...   \n",
       "5      205  Fly into the wavy and twisted sky,into your ha...   \n",
       "6       47  Press down hard on the gas\\n That’s right, the...   \n",
       "7       88  We are Fighting Dreamers aiming high\\n Fightin...   \n",
       "8        2  C'mon!\\n Running like a fugitive,\\n Being chas...   \n",
       "9      108  Connecting old wordsthat have been used up\\n I...   \n",
       "\n",
       "                                                ners  \n",
       "0  [{}, {}, {}, {Moso}, {}, {}, {Moso}, {}, {}, {...  \n",
       "1  [{}, {}, {}, {}, {}, {}, {}, {}, {Naruto}, {},...  \n",
       "2  [{}, {}, {}, {Naruto}, {}, {}, {Sasuke}, {Dosu...  \n",
       "3  [{}, {}, {Naruto, Sasuke}, {}, {Naruto, Sasuke...  \n",
       "4  [{}, {}, {}, {}, {}, {}, {}, {Bushy}, {Guy}, {...  \n",
       "5  [{}, {}, {}, {Yakumo}, {}, {}, {Yakumo}, {}, {...  \n",
       "6  [{}, {Hinata, Neji}, {}, {}, {Hinata}, {Naruto...  \n",
       "7  [{Oli}, {}, {}, {}, {}, {Oli}, {}, {}, {}, {},...  \n",
       "8  [{}, {}, {}, {}, {}, {}, {}, {}, {Konohamaru},...  \n",
       "9  [{}, {}, {}, {}, {}, {}, {}, {}, {}, {}, {}, {...  "
      ]
     },
     "execution_count": 107,
     "metadata": {},
     "output_type": "execute_result"
    }
   ],
   "source": [
    "df"
   ]
  },
  {
   "cell_type": "markdown",
   "id": "3c0054aa",
   "metadata": {},
   "source": [
    "# Character Network"
   ]
  },
  {
   "cell_type": "code",
   "execution_count": 108,
   "id": "0c998526",
   "metadata": {},
   "outputs": [],
   "source": [
    "import pandas as pd\n",
    "import matplotlib.pyplot as plt\n",
    "import networkx as nx\n",
    "from pyvis.network import Network"
   ]
  },
  {
   "cell_type": "code",
   "execution_count": 109,
   "id": "c5d77eb5",
   "metadata": {},
   "outputs": [],
   "source": [
    "def generate_character_network(df):\n",
    "    windows=10\n",
    "    entity_relationship = []\n",
    "\n",
    "    for row in df['ners']:\n",
    "        previous_entities_in_window = []\n",
    "\n",
    "        for sentence in row:\n",
    "            previous_entities_in_window.append(list(sentence))\n",
    "            previous_entities_in_window = previous_entities_in_window[-windows:]\n",
    "\n",
    "            # Flatten 2d list into 1d list\n",
    "            previous_entities_flattened = sum(previous_entities_in_window, [])\n",
    "\n",
    "            for entity in sentence:\n",
    "                for entity_in_window in previous_entities_flattened:\n",
    "                    if entity != entity_in_window:\n",
    "                        entity_relationship.append(sorted([entity, entity_in_window]))\n",
    "\n",
    "    relationship_df = pd.DataFrame({'value': entity_relationship})\n",
    "    relationship_df['source'] = relationship_df['value'].apply(lambda x: x[0])\n",
    "    relationship_df['target'] = relationship_df['value'].apply(lambda x: x[1])\n",
    "    relationship_df = relationship_df.groupby(['source', 'target']).count().reset_index()\n",
    "    relationship_df = relationship_df.sort_values('value', ascending=False)\n",
    "\n",
    "    return relationship_df\n"
   ]
  },
  {
   "cell_type": "code",
   "execution_count": 110,
   "id": "75bfc537",
   "metadata": {},
   "outputs": [],
   "source": [
    "relationship_df = generate_character_network(df)"
   ]
  },
  {
   "cell_type": "code",
   "execution_count": 111,
   "id": "0d4d2078",
   "metadata": {},
   "outputs": [
    {
     "data": {
      "text/html": [
       "<div>\n",
       "<style scoped>\n",
       "    .dataframe tbody tr th:only-of-type {\n",
       "        vertical-align: middle;\n",
       "    }\n",
       "\n",
       "    .dataframe tbody tr th {\n",
       "        vertical-align: top;\n",
       "    }\n",
       "\n",
       "    .dataframe thead th {\n",
       "        text-align: right;\n",
       "    }\n",
       "</style>\n",
       "<table border=\"1\" class=\"dataframe\">\n",
       "  <thead>\n",
       "    <tr style=\"text-align: right;\">\n",
       "      <th></th>\n",
       "      <th>source</th>\n",
       "      <th>target</th>\n",
       "      <th>value</th>\n",
       "    </tr>\n",
       "  </thead>\n",
       "  <tbody>\n",
       "    <tr>\n",
       "      <th>305</th>\n",
       "      <td>Naruto</td>\n",
       "      <td>Sasuke</td>\n",
       "      <td>62</td>\n",
       "    </tr>\n",
       "    <tr>\n",
       "      <th>263</th>\n",
       "      <td>Kurenai</td>\n",
       "      <td>Yakumo</td>\n",
       "      <td>38</td>\n",
       "    </tr>\n",
       "    <tr>\n",
       "      <th>282</th>\n",
       "      <td>Lee</td>\n",
       "      <td>Sasuke</td>\n",
       "      <td>31</td>\n",
       "    </tr>\n",
       "    <tr>\n",
       "      <th>145</th>\n",
       "      <td>Hinata</td>\n",
       "      <td>Neji</td>\n",
       "      <td>30</td>\n",
       "    </tr>\n",
       "    <tr>\n",
       "      <th>295</th>\n",
       "      <td>Naruto</td>\n",
       "      <td>Neji</td>\n",
       "      <td>26</td>\n",
       "    </tr>\n",
       "    <tr>\n",
       "      <th>...</th>\n",
       "      <td>...</td>\n",
       "      <td>...</td>\n",
       "      <td>...</td>\n",
       "    </tr>\n",
       "    <tr>\n",
       "      <th>210</th>\n",
       "      <td>Jutsu</td>\n",
       "      <td>takeSasuke</td>\n",
       "      <td>1</td>\n",
       "    </tr>\n",
       "    <tr>\n",
       "      <th>208</th>\n",
       "      <td>Jutsu</td>\n",
       "      <td>Tayuya</td>\n",
       "      <td>1</td>\n",
       "    </tr>\n",
       "    <tr>\n",
       "      <th>46</th>\n",
       "      <td>Byakugan</td>\n",
       "      <td>the</td>\n",
       "      <td>1</td>\n",
       "    </tr>\n",
       "    <tr>\n",
       "      <th>203</th>\n",
       "      <td>Jutsu</td>\n",
       "      <td>Rasengan</td>\n",
       "      <td>1</td>\n",
       "    </tr>\n",
       "    <tr>\n",
       "      <th>32</th>\n",
       "      <td>Bushy-Brows</td>\n",
       "      <td>Gaara</td>\n",
       "      <td>1</td>\n",
       "    </tr>\n",
       "  </tbody>\n",
       "</table>\n",
       "<p>435 rows × 3 columns</p>\n",
       "</div>"
      ],
      "text/plain": [
       "          source      target  value\n",
       "305       Naruto      Sasuke     62\n",
       "263      Kurenai      Yakumo     38\n",
       "282          Lee      Sasuke     31\n",
       "145       Hinata        Neji     30\n",
       "295       Naruto        Neji     26\n",
       "..           ...         ...    ...\n",
       "210        Jutsu  takeSasuke      1\n",
       "208        Jutsu      Tayuya      1\n",
       "46      Byakugan         the      1\n",
       "203        Jutsu    Rasengan      1\n",
       "32   Bushy-Brows       Gaara      1\n",
       "\n",
       "[435 rows x 3 columns]"
      ]
     },
     "execution_count": 111,
     "metadata": {},
     "output_type": "execute_result"
    }
   ],
   "source": [
    "relationship_df"
   ]
  },
  {
   "cell_type": "code",
   "execution_count": 112,
   "id": "56e58427",
   "metadata": {},
   "outputs": [],
   "source": [
    "relationship_df = relationship_df.sort_values('value', ascending=False)\n",
    "relationship_df = relationship_df.head(200)"
   ]
  },
  {
   "cell_type": "code",
   "execution_count": 113,
   "id": "749e9600",
   "metadata": {},
   "outputs": [
    {
     "name": "stdout",
     "output_type": "stream",
     "text": [
      "naruto.html\n"
     ]
    },
    {
     "data": {
      "text/html": [
       "\n",
       "        <iframe\n",
       "            width=\"1000px\"\n",
       "            height=\"700px\"\n",
       "            src=\"naruto.html\"\n",
       "            frameborder=\"0\"\n",
       "            allowfullscreen\n",
       "            \n",
       "        ></iframe>\n",
       "        "
      ],
      "text/plain": [
       "<IPython.lib.display.IFrame at 0x7b1c0fcce620>"
      ]
     },
     "execution_count": 113,
     "metadata": {},
     "output_type": "execute_result"
    }
   ],
   "source": [
    "G = nx.from_pandas_edgelist(\n",
    "    relationship_df,\n",
    "    source='source',\n",
    "    target='target',\n",
    "    edge_attr='value',\n",
    "    create_using=nx.Graph()\n",
    ")\n",
    "\n",
    "net = Network(notebook=True, width='1000px', height='700px', bgcolor='#222222', font_color='white', cdn_resources='remote')\n",
    "node_degree = dict(G.degree)\n",
    "\n",
    "nx.set_node_attributes(G, node_degree, 'size')\n",
    "net.from_nx(G)\n",
    "net.show(\"naruto.html\")"
   ]
  },
  {
   "cell_type": "code",
   "execution_count": null,
   "id": "8119be85",
   "metadata": {},
   "outputs": [],
   "source": []
  }
 ],
 "metadata": {
  "kernelspec": {
   "display_name": ".venv",
   "language": "python",
   "name": "python3"
  },
  "language_info": {
   "codemirror_mode": {
    "name": "ipython",
    "version": 3
   },
   "file_extension": ".py",
   "mimetype": "text/x-python",
   "name": "python",
   "nbconvert_exporter": "python",
   "pygments_lexer": "ipython3",
   "version": "3.10.12"
  }
 },
 "nbformat": 4,
 "nbformat_minor": 5
}
